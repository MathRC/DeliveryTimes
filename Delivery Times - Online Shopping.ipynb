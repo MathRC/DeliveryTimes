{
 "cells": [
  {
   "cell_type": "markdown",
   "id": "9fb5c3c6-9bcd-4c1a-9b0e-033b80b5253b",
   "metadata": {},
   "source": [
    "## Optimizing Home Availability for Online Deliveries\n",
    "\n",
    "### 1. Introduction\n",
    "\n",
    "**Welcome to my very first data science project!** I’m excited to finally apply the skills I've developed recently.\n",
    "\n",
    "As a frequent online shopper, I appreciate the convenience and cost-effectiveness of e-commerce. However, in Brazil, receiving packages requires being home, as deliveries are handed over in person due to security concerns. \n",
    "\n",
    "This led me to a recurring problem: **When is it safest to leave home without missing a delivery?** Are there predictable patterns in delivery times that could help optimize my schedule?  \n",
    "\n",
    "To answer this question, I retrieved delivery data from my emails, which contain notifications from the two e-commerce platforms I use most frequently: Shopee and MercadoLivre. My dataset includes:  \n",
    "- Date and time of each delivery\n",
    "- E-commerce platform responsible for the shipment  \n",
    "\n",
    "Through this project, I aim to uncover any predictable patterns in delivery schedules, helping me optimize daily routines around expected package arrivals.\n",
    "\n",
    "Here’s what you can expect from this analysis:\n",
    "- **Data Collection and Preparation**: A quick look at how I compiled and prepared the dataset for analysis.\n",
    "- **Exploratory Data Analysis (EDA)**: Visualizations and statistical summaries to highlight the most common delivery times.\n",
    "- **Insights**: Practical takeaways for scheduling outings that minimize the risk of missing a delivery.\n",
    "\n",
    "Let’s dive in!"
   ]
  },
  {
   "cell_type": "markdown",
   "id": "c7c9207c-1cc3-4fc6-bb68-9a423b75139f",
   "metadata": {},
   "source": [
    "_Imagem: Package_delivery_"
   ]
  },
  {
   "cell_type": "markdown",
   "id": "22f190d9-76b6-484f-b5c4-f4d3250fbd5a",
   "metadata": {},
   "source": [
    "### 2. Data ###\n",
    "\n",
    "#### 2.1. Data Collection ####\n",
    "\n",
    "To accurately track delivery times, I used Mozilla Thunderbird, my email platform, to filter and export delivery confirmation emails from 2024. These emails are typically sent 2–3 minutes after a package is received, making them a reliable proxy for actual delivery times.  \n",
    "\n",
    "Thunderbird allows saving emails as .eml files, so I organized all relevant emails into separate folders for each online marketplace. Each file name contained the **email subject** (in Portuguese), **date**, and **time**, making the relevant details easily available.\n",
    "\n",
    "To extract and organize the timestamps efficiently, I used the **Windows Command Prompt** to generate a `.txt` file with the filenames from each folder:  \n",
    "\n",
    "```sh\n",
    "dir /b > shopee_emails.txt  (in the Shopee email folder)\n",
    "dir /b > mercadolivre_emails.txt  (in the MercadoLivre email folder)\n",
    "```\n",
    "\n",
    "This command lists all filenames in the directory and exports them to a text file. These timestamped filenames served as the foundation for the dataset creation.\n",
    "\n",
    "The first lines of each file are shown in Figure 1."
   ]
  },
  {
   "cell_type": "markdown",
   "id": "0797e9a3-0c03-45bd-a8d8-86fc88918137",
   "metadata": {},
   "source": [
    "_Image: MercadoLivre_and_Shopee_emails_txt.png_\n",
    "\n",
    "Figure 1: First lines from the text files listing email filenames showing subject, date, and time\n",
    "\n",
    "SEO: First  lines from the text files listing email filenames showing subject, date, and time"
   ]
  },
  {
   "cell_type": "code",
   "execution_count": 12,
   "id": "306f7bb1-c010-409b-9cb3-2c4f1fa2b340",
   "metadata": {
    "scrolled": true
   },
   "outputs": [
    {
     "name": "stdout",
     "output_type": "stream",
     "text": [
      "\n",
      "Shopee Emails:\n",
      "\n",
      "Oba! Seu pedido #231231KFNWV01C foi entregue - Shopee (info@mail.shopee.com.br) - 2024-01-06 1118.eml\n",
      "Oba! Seu pedido #231231KS1XG1AC foi entregue - Shopee (info@mail.shopee.com.br) - 2024-01-05 1236.eml\n",
      "Oba! Seu pedido #240115USFDQFVB foi entregue - Shopee (info@mail.shopee.com.br) - 2024-01-20 1454.eml\n",
      "Oba! Seu pedido #2401199GJY5UE3 foi entregue - Shopee (info@mail.shopee.com.br) - 2024-01-26 1652.eml\n",
      "Oba! Seu pedido #240120BV017FDV foi entregue - Shopee (info@mail.shopee.com.br) - 2024-01-29 1322.eml\n",
      "Oba! Seu pedido #240122GXTNK7RW foi entregue - Shopee (info@mail.shopee.com.br) - 2024-01-29 1322.eml\n",
      "Oba! Seu pedido #240124QCUN8EK2 foi entregue - Shopee (info@mail.shopee.com.br) - 2024-01-29 1322.eml\n",
      "Oba! Seu pedido #240124QJTAV03E foi entregue - Shopee (info@mail.shopee.com.br) - 2024-02-01 1038.eml\n",
      "Oba! Seu pedido #240124QJTAV03F foi entregue - Shopee (info@mail.shopee.com.br) - 2024-01-31 1100.eml\n",
      "Oba! Seu pedido #240124QJTAV03G foi entregue - Shopee (info@mail.shopee.com.br) - 2024-02-01 1038.eml\n",
      "\n",
      "MercadoLivre Emails:\n",
      "\n",
      "Você recebeu sua compra, aproveite! - Mercado Livre (nao-responder@mercadolivre.com) - 2024-01-02 1718-2.eml\n",
      "Você recebeu sua compra, aproveite! - Mercado Livre (nao-responder@mercadolivre.com) - 2024-01-02 1718-3.eml\n",
      "Você recebeu sua compra, aproveite! - Mercado Livre (nao-responder@mercadolivre.com) - 2024-01-02 1718.eml\n",
      "Você recebeu sua compra, aproveite! - Mercado Livre (nao-responder@mercadolivre.com) - 2024-01-03 1813.eml\n",
      "Você recebeu sua compra, aproveite! - Mercado Livre (nao-responder@mercadolivre.com) - 2024-01-10 1138.eml\n",
      "Você recebeu sua compra, aproveite! - Mercado Livre (nao-responder@mercadolivre.com) - 2024-01-16 1642.eml\n",
      "Você recebeu sua compra, aproveite! - Mercado Livre (nao-responder@mercadolivre.com) - 2024-01-17 1634.eml\n",
      "Você recebeu sua compra, aproveite! - Mercado Livre (nao-responder@mercadolivre.com) - 2024-01-19 1345.eml\n",
      "Você recebeu sua compra, aproveite! - Mercado Livre (nao-responder@mercadolivre.com) - 2024-01-24 1641-2.eml\n",
      "Você recebeu sua compra, aproveite! - Mercado Livre (nao-responder@mercadolivre.com) - 2024-01-24 1641-3.eml\n"
     ]
    }
   ],
   "source": [
    "# Define file paths\n",
    "shopee_emails = r\"D:\\Data Science & NLP\\Portfolio\\Optimizing Home Availability for Online Deliveries\\shopee_emails.txt\"\n",
    "mercadolivre_emails = r\"D:\\Data Science & NLP\\Portfolio\\Optimizing Home Availability for Online Deliveries\\mercadolivre_emails.txt\"\n",
    "\n",
    "# Read Shopee file\n",
    "with open(shopee_emails, \"r\", encoding=\"utf-8\") as file:\n",
    "    print(\"\\nShopee Emails:\\n\")\n",
    "    for _ in range(10):\n",
    "        print(file.readline().strip())\n",
    "\n",
    "# Read MercadoLivre file\n",
    "with open(mercadolivre_emails, \"r\", encoding=\"cp1252\") as file:\n",
    "    print(\"\\nMercadoLivre Emails:\\n\")\n",
    "    for _ in range(10):\n",
    "        print(file.readline().strip())"
   ]
  },
  {
   "cell_type": "markdown",
   "id": "423886e2-32f0-4a06-9bf2-bfc96f9a538c",
   "metadata": {
    "jp-MarkdownHeadingCollapsed": true
   },
   "source": [
    "####  2.2. Data Validation ####\n",
    "A review of the `.txt` files confirmed that all email headings followed a consistent pattern, with no anomalies or irregular formatting. Since the extracted filenames were already well-structured, **no additional cleaning was required in this stage**, and I could proceed directly to filtering the data and organizing it into a structured format for further analysis."
   ]
  },
  {
   "cell_type": "markdown",
   "id": "38a09585-b763-425f-a749-f95cff266e14",
   "metadata": {},
   "source": [
    "#### 2.3. DataFrame creation ####\n",
    "\n",
    "After extracting and validating the filenames with the email headings, the next step was to structure the data into a **Pandas DataFrame** for analysis. Since the filenames contain the **date and time** of each delivery, I used **regex** to extract these timestamps and convert them into a proper datetime format.  \n",
    "\n",
    "Additionally, I added a `platform` column to differentiate between deliveries from Shopee and MercadoLivre. This structured format will enable further exploration of delivery patterns, such as which times of day or days of the week deliveries are most likely to occur.  "
   ]
  },
  {
   "cell_type": "code",
   "execution_count": 291,
   "id": "79fb670d-22c0-44c2-b75d-5f5d6d8883f9",
   "metadata": {},
   "outputs": [],
   "source": [
    "import pandas as pd\n",
    "import re\n",
    "\n",
    "# Define file paths\n",
    "shopee_emails = r\"D:\\Data Science & NLP\\Portfolio\\Optimizing Home Availability for Online Deliveries\\shopee_emails.txt\"\n",
    "mercadolivre_emails = r\"D:\\Data Science & NLP\\Portfolio\\Optimizing Home Availability for Online Deliveries\\mercadolivre_emails.txt\"\n",
    "\n",
    "# Function to extract date and time using regex\n",
    "def extract_datetime(filename):\n",
    "    match = re.search(r\"(\\d{4}-\\d{2}-\\d{2}) (\\d{4})\", filename)\n",
    "    if match:\n",
    "        date, time = match.groups()  # Return the captured groups from the regex pattern\n",
    "        formatted_time = f\"{time[:2]}:{time[2:]}\"  # Convert HHMM to HH:MM\n",
    "        return f\"{date} {formatted_time}\"\n",
    "    return None  # Return None if no match is found\n",
    "\n",
    "# Load Shopee emails\n",
    "with open(shopee_emails, \"r\", encoding=\"utf-8\") as file:\n",
    "    shopee_data = [{\"Datetime\": extract_datetime(line.strip()), \"Platform\": \"Shopee\"} for line in file]\n",
    "\n",
    "# Load MercadoLivre emails\n",
    "with open(mercadolivre_emails, \"r\", encoding=\"ISO-8859-1\") as file:\n",
    "    mercadolivre_data = [{\"Datetime\": extract_datetime(line.strip()), \"Platform\": \"MercadoLivre\"} for line in file]\n",
    "\n",
    "# Combine data and create DataFrame\n",
    "deliveries = pd.DataFrame(shopee_data + mercadolivre_data)\n",
    "\n",
    "# Convert 'datetime' column to datetime format\n",
    "deliveries[\"Datetime\"] = pd.to_datetime(deliveries[\"Datetime\"], format=\"%Y-%m-%d %H:%M\")"
   ]
  },
  {
   "cell_type": "markdown",
   "id": "88b2c011-9e47-4000-a77c-92d7c62a50f0",
   "metadata": {},
   "source": [
    "These are the first lines of the **resulting DataFrame**:"
   ]
  },
  {
   "cell_type": "markdown",
   "id": "ff900d3a-c4f0-442b-8df6-7665a4d04e54",
   "metadata": {},
   "source": [
    "_Image: DataFrame_Head.png_\n",
    "\n",
    "Figure 2: Preview of the DataFrame Head\n",
    "\n",
    "SEO: The image displays the first few rows of the DataFrame created from the email filenames, showing details such as subject, date, and time."
   ]
  },
  {
   "cell_type": "code",
   "execution_count": 103,
   "id": "aa80e273-695a-4ba0-85ce-0b3e1703e75d",
   "metadata": {},
   "outputs": [
    {
     "name": "stdout",
     "output_type": "stream",
     "text": [
      "             Datetime Platform\n",
      "0 2024-01-06 11:18:00   Shopee\n",
      "1 2024-01-05 12:36:00   Shopee\n",
      "2 2024-01-20 14:54:00   Shopee\n",
      "3 2024-01-26 16:52:00   Shopee\n",
      "4 2024-01-29 13:22:00   Shopee\n"
     ]
    }
   ],
   "source": [
    "print(deliveries.head())"
   ]
  },
  {
   "cell_type": "code",
   "execution_count": 111,
   "id": "9c89d1bd-53c4-4124-9e68-45eaa580e857",
   "metadata": {},
   "outputs": [
    {
     "data": {
      "text/html": [
       "<div>\n",
       "<style scoped>\n",
       "    .dataframe tbody tr th:only-of-type {\n",
       "        vertical-align: middle;\n",
       "    }\n",
       "\n",
       "    .dataframe tbody tr th {\n",
       "        vertical-align: top;\n",
       "    }\n",
       "\n",
       "    .dataframe thead th {\n",
       "        text-align: right;\n",
       "    }\n",
       "</style>\n",
       "<table border=\"1\" class=\"dataframe\">\n",
       "  <thead>\n",
       "    <tr style=\"text-align: right;\">\n",
       "      <th></th>\n",
       "      <th>Datetime</th>\n",
       "      <th>Platform</th>\n",
       "    </tr>\n",
       "  </thead>\n",
       "  <tbody>\n",
       "    <tr>\n",
       "      <th>0</th>\n",
       "      <td>2024-01-06 11:18:00</td>\n",
       "      <td>Shopee</td>\n",
       "    </tr>\n",
       "    <tr>\n",
       "      <th>1</th>\n",
       "      <td>2024-01-05 12:36:00</td>\n",
       "      <td>Shopee</td>\n",
       "    </tr>\n",
       "    <tr>\n",
       "      <th>2</th>\n",
       "      <td>2024-01-20 14:54:00</td>\n",
       "      <td>Shopee</td>\n",
       "    </tr>\n",
       "    <tr>\n",
       "      <th>3</th>\n",
       "      <td>2024-01-26 16:52:00</td>\n",
       "      <td>Shopee</td>\n",
       "    </tr>\n",
       "    <tr>\n",
       "      <th>4</th>\n",
       "      <td>2024-01-29 13:22:00</td>\n",
       "      <td>Shopee</td>\n",
       "    </tr>\n",
       "  </tbody>\n",
       "</table>\n",
       "</div>"
      ],
      "text/plain": [
       "             Datetime Platform\n",
       "0 2024-01-06 11:18:00   Shopee\n",
       "1 2024-01-05 12:36:00   Shopee\n",
       "2 2024-01-20 14:54:00   Shopee\n",
       "3 2024-01-26 16:52:00   Shopee\n",
       "4 2024-01-29 13:22:00   Shopee"
      ]
     },
     "execution_count": 111,
     "metadata": {},
     "output_type": "execute_result"
    }
   ],
   "source": [
    "deliveries.head()"
   ]
  },
  {
   "cell_type": "markdown",
   "id": "0b6e4078-5f30-4a4a-874f-1c083162d185",
   "metadata": {},
   "source": [
    "Here is the number of delivery notifications extracted from my emails:"
   ]
  },
  {
   "cell_type": "markdown",
   "id": "8d3d26c9-f6b5-485a-a477-c4383ea86496",
   "metadata": {},
   "source": [
    "_Image: Platform_Count.png_\n",
    "\n",
    "Figure 3: Delivery Notifications Count by Platform\n",
    "\n",
    "SEO: This table summarizes the total delivery notifications for each online marketplace."
   ]
  },
  {
   "cell_type": "code",
   "execution_count": 107,
   "id": "33176ec8-8c90-4768-82c3-1649c59606d6",
   "metadata": {
    "jp-MarkdownHeadingCollapsed": true
   },
   "outputs": [
    {
     "data": {
      "text/plain": [
       "Platform\n",
       "MercadoLivre    123\n",
       "Shopee          102\n",
       "Name: count, dtype: int64"
      ]
     },
     "execution_count": 107,
     "metadata": {},
     "output_type": "execute_result"
    }
   ],
   "source": [
    "deliveries.value_counts('Platform')"
   ]
  },
  {
   "cell_type": "markdown",
   "id": "2fb6b77f-96b5-4f46-8dca-d7e0988d2751",
   "metadata": {},
   "source": [
    "#### 2.4. Handling Duplicate Values ####\n",
    "\n",
    "I suspected that when I purchase multiple items separately and they are delivered together, the platform sometimes sends **multiple confirmation emails** for the same delivery. After checking the source data in my email, I confirmed this was happening.  \n",
    "\n",
    "To ensure each delivery is counted only once, I **removed duplicate timestamps** before proceeding with the analysis.  "
   ]
  },
  {
   "cell_type": "code",
   "execution_count": 293,
   "id": "6697b8b8-bbf9-4035-9eb8-2eb758e2927e",
   "metadata": {
    "scrolled": true
   },
   "outputs": [
    {
     "name": "stdout",
     "output_type": "stream",
     "text": [
      "\n",
      "Deliveries per platform after removing duplicates:\n",
      "\n",
      "Platform\n",
      "MercadoLivre    100\n",
      "Shopee           88\n",
      "Name: count, dtype: int64\n"
     ]
    }
   ],
   "source": [
    "# Remove duplicates\n",
    "deliveries = deliveries.drop_duplicates(subset=[\"Datetime\"])\n",
    "\n",
    "# Display updated count\n",
    "print(\"\\nDeliveries per platform after removing duplicates:\\n\")\n",
    "print(deliveries[\"Platform\"].value_counts())"
   ]
  },
  {
   "cell_type": "markdown",
   "id": "50c319da-732d-4407-a383-d5a4d31cab84",
   "metadata": {},
   "source": [
    " Figure 4 displays the count of delivery notifications for each platform after duplicate entries have been removed."
   ]
  },
  {
   "cell_type": "markdown",
   "id": "687d3804-91cf-4fa6-9f89-5bb4eab29c6b",
   "metadata": {},
   "source": [
    "_Image: Platform_Count_No_Duplicates.png_\n",
    "\n",
    "Figure 4: Unique Delivery Notifications by Platform\n",
    "\n",
    "SEO: Deliveries per platform after removing duplicates\n"
   ]
  },
  {
   "cell_type": "markdown",
   "id": "c61a70f3-ac83-4d3b-9a24-8283da626c80",
   "metadata": {},
   "source": [
    "#### 2.5. Sanity Check ####\n",
    "\n",
    "Now that the data has been collected and processed, it's important to pause and review the results. After removing duplicate entries, the final dataset shows 100 deliveries from MercadoLivre and 88 from Shopee—a total of **188 deliveries per year**. Does this number make sense?\n",
    "\n",
    "This averages to roughly **3.6 deliveries per week**. Considering my frequent online shopping—from groceries and clothing to personal care and household items—this figure aligns well with my personal experience. With this sanity check confirming that the numbers are realistic, I can move on to analyzing the delivery trends."
   ]
  },
  {
   "cell_type": "markdown",
   "id": "b5aee86d-59a3-49f8-bf4a-4732e0eef4ba",
   "metadata": {},
   "source": [
    "### 3. Exploratory Data Analysis (EDA) ###\n",
    "\n",
    "This section explores various aspects of the delivery data, divided into two subsections. The first subsection examines **weekly delivery patterns** using a grouped bar chart, and the second focuses on **hourly distributions** using a histogram and percentiles."
   ]
  },
  {
   "cell_type": "markdown",
   "id": "591c45d1-fd9c-43d4-8a80-cf8a7e601b49",
   "metadata": {},
   "source": [
    "#### 3.1. Weekly Delivery Patterns ####\n",
    "\n",
    "In this first analysis, I examine the distribution of deliveries by day of the week to identify potential patterns. I used a **grouped bar chart** for this visualization, as it allows a straightforward comparison of the number of deliveries for each platform across the days of the week."
   ]
  },
  {
   "cell_type": "code",
   "execution_count": 457,
   "id": "f2f2ecc0-0e86-4be6-a064-285a0e5d8116",
   "metadata": {},
   "outputs": [],
   "source": [
    "# Reset Seaborn settings to default for future plots\n",
    "sns.reset_defaults()  "
   ]
  },
  {
   "cell_type": "code",
   "execution_count": 459,
   "id": "a995cd96-f540-487e-9c9a-1c04b70b3b16",
   "metadata": {
    "scrolled": true
   },
   "outputs": [
    {
     "data": {
      "image/png": "[encoded data removed]",
      "text/plain": [
       "<Figure size 640x480 with 1 Axes>"
      ]
     },
     "metadata": {},
     "output_type": "display_data"
    }
   ],
   "source": [
    "import seaborn as sns\n",
    "import matplotlib.pyplot as plt\n",
    "\n",
    "# Extract day of the week\n",
    "deliveries[\"DayOfWeek\"] = deliveries[\"Datetime\"].dt.day_name()\n",
    "\n",
    "# Define the order of days\n",
    "days_order = [\"Monday\", \"Tuesday\", \"Wednesday\", \"Thursday\", \"Friday\", \"Saturday\", \"Sunday\"]\n",
    "\n",
    "# Create a grouped bar chart\n",
    "plt.figure()\n",
    "sns.barplot(\n",
    "    data=delivery_counts,\n",
    "    x=\"DayOfWeek\",\n",
    "    y=\"Count\",\n",
    "    hue=\"Platform\",\n",
    "    order=days_order\n",
    ")\n",
    "\n",
    "# Set the x-axis label, y-axis label, and plot title\n",
    "plt.xlabel(\"Day of Week\")\n",
    "plt.ylabel(\"Number of Deliveries\")\n",
    "plt.title(\"Delivery Counts by Day of Week and Platform\")\n",
    "\n",
    "# Save the figure to the specified local folder\n",
    "save_path = r\"D:\\Data Science & NLP\\Portfolio\\Optimizing Home Availability for Online Deliveries\\Blog or website images\\delivery_counts_by_day.png\"\n",
    "plt.savefig(save_path, dpi=300, format=\"png\")\n",
    "\n",
    "# Display the plot\n",
    "plt.show()"
   ]
  },
  {
   "cell_type": "markdown",
   "id": "865cfd0a-0677-4d45-82b2-e5eb9bac2dc3",
   "metadata": {},
   "source": [
    "_Image: delivery_counts_by_day.png_\n",
    "\n",
    "Figure 5: Delivery Counts by Day of Week and Platform\n",
    "\n",
    "SEO: same"
   ]
  },
  {
   "cell_type": "markdown",
   "id": "02f19d51-d996-46e6-b47c-c205cb305c6f",
   "metadata": {},
   "source": [
    "Here are some insights based on Figure 5:\n",
    "\n",
    "- **Mid-Week Peaks**  \n",
    "   - **MercadoLivre** reaches its highest delivery volume on **Tuesday**, while **Shopee** peaks on **Wednesday**.\n",
    "<br>\n",
    "<br>\n",
    "- **Weekend Decline**  \n",
    "   - Both platforms see a drop in deliveries on **Saturday**. Notably, **Shopee** registers no deliveries on **Sunday**, whereas **MercadoLivre** continues delivering—though at a considerably lower volume.\n",
    "<br>\n",
    "<br>\n",
    "- **Consistency**  \n",
    "   - Delivery counts on **Monday**, **Thursday**, and **Friday** are relatively similar between the two platforms."
   ]
  },
  {
   "cell_type": "markdown",
   "id": "ee07929a-5132-45ca-9ed8-78e2e1fc389f",
   "metadata": {},
   "source": [
    "#### 3.2. Delivery Time Distribution: Histograms ####\n",
    "\n",
    "This section explores how delivery times vary throughout the day across the platforms. By comparing them side by side, we can pinpoint the peak and off-peak hours for deliveries.\n",
    "\n",
    "Figure 6 presents a histogram that displays the number of deliveries recorded each hour—from 6 AM to 10 PM—for each platform. This visualization offers a clear overview of the hourly delivery patterns."
   ]
  },
  {
   "cell_type": "code",
   "execution_count": 332,
   "id": "41d67f9b-7cfa-4c8c-a48b-38e6e5068b3e",
   "metadata": {},
   "outputs": [
    {
     "data": {
      "image/png": "[encoded data removed]",
      "text/plain": [
       "<Figure size 1000x500 with 2 Axes>"
      ]
     },
     "metadata": {},
     "output_type": "display_data"
    }
   ],
   "source": [
    "import seaborn as sns\n",
    "import matplotlib.pyplot as plt\n",
    "import matplotlib.ticker as mticker\n",
    "\n",
    "# Extract the hour\n",
    "deliveries[\"Hour\"] = deliveries[\"Datetime\"].dt.hour\n",
    "\n",
    "# Apply ggplot style\n",
    "plt.style.use('ggplot')  \n",
    "\n",
    "# Create faceted histograms to visualize hourly delivery distribution by platform\n",
    "g = sns.displot(\n",
    "    data=deliveries,\n",
    "    x=\"Hour\",\n",
    "    bins=range(6, 23),\n",
    "    col=\"Platform\",\n",
    "    facet_kws={\"sharey\": True},\n",
    "    edgecolor=\"black\",\n",
    "    color=\"#1f77b4\",\n",
    "    alpha=1\n",
    ")\n",
    "\n",
    "# Set the x-axis label, y-axis label, and plot title\n",
    "g.set_axis_labels(\"Hour of Delivery\", \"Number of Deliveries\")\n",
    "g.set_titles(\"{col_name} - Delivery Times\")\n",
    "\n",
    "# Configure y-axis to display only integer tick marks\n",
    "for ax in g.axes.flat:\n",
    "    ax.yaxis.set_major_locator(mticker.MaxNLocator(integer=True))\n",
    "\n",
    "# Save the plot as an image\n",
    "save_path = r\"D:\\Data Science & NLP\\Portfolio\\Optimizing Home Availability for Online Deliveries\\Blog or website images\\hourly_delivery_distribution.png\"\n",
    "g.fig.savefig(save_path, dpi=300, format=\"png\")\n",
    "\n",
    "# Display the plot\n",
    "plt.show()\n",
    "\n",
    "# Reset Seaborn settings to default for future plots\n",
    "sns.reset_defaults()  "
   ]
  },
  {
   "cell_type": "markdown",
   "id": "b1fad179-529d-4ed0-a2d7-dcabe6aa813f",
   "metadata": {},
   "source": [
    "_Image: hourly_delivery_distribution.png_\n",
    "\n",
    "**Figure 6: Hourly Delivery Distribution by Platform** \n",
    "\n",
    "SEO: same"
   ]
  },
  {
   "cell_type": "markdown",
   "id": "acec4153-4593-48aa-b0ba-eaf072f0d16c",
   "metadata": {},
   "source": [
    "Key Observations from Figure 6:\n",
    "\n",
    "- **Shopee's Morning Advantage**  \n",
    "   - Shopee experiences higher delivery volume in the morning compared to the afternoon, with only a few deliveries occurring before 8 a.m. or after 6 p.m.\n",
    "<br><br>\n",
    "\n",
    "- **MercadoLivre's Midday Peak**  \n",
    "   - MercadoLivre deliveries peak around midday, with most activity starting around 10 a.m. and extending into the evening.\n",
    "<br><br>\n",
    "\n",
    "- **Similar Operating Range**  \n",
    "   - Both platforms operate over a similar 13-hour window, although their peak delivery times differ, highlighting distinct daily patterns."
   ]
  },
  {
   "cell_type": "markdown",
   "id": "a756986a-7c5d-4de3-b57b-7639a5987168",
   "metadata": {},
   "source": [
    "#### 3.3. Delivery Time Distribution: 95% Interval ####"
   ]
  },
  {
   "cell_type": "markdown",
   "id": "d5357fad-237b-4d17-b48b-69d1f07acfa1",
   "metadata": {},
   "source": [
    "Now that I have a clear picture of the daily delivery patterns, it's time to tackle the key question: **When is it safest to leave home without missing a delivery?** \n",
    "\n",
    "I reframed this as: at what times can I step out with only a 5% or lower risk of missing a package—in other words, **which time interval contains 95% of the deliveries for each platform?**\n",
    "\n",
    "To answer this, I calculated the **2.5th and 97.5th percentiles of delivery times for each platform**. The resulting intervals—displayed in Figure 7—represent the windows during which 95% of deliveries occur."
   ]
  },
  {
   "cell_type": "code",
   "execution_count": 429,
   "id": "69475414-b57e-4ad6-90c7-e5f5cbf102d3",
   "metadata": {},
   "outputs": [
    {
     "name": "stdout",
     "output_type": "stream",
     "text": [
      "             2.5th_percentile 97.5th_percentile\n",
      "Platform                                       \n",
      "MercadoLivre         10:25:39          19:56:18\n",
      "Shopee               08:12:21          17:59:30\n"
     ]
    }
   ],
   "source": [
    "import pandas as pd\n",
    "import numpy as np\n",
    "\n",
    "# Convert each Datetime entry to total seconds\n",
    "deliveries[\"TimeOfDaySeconds\"] = (\n",
    "    deliveries[\"Datetime\"].dt.hour * 3600\n",
    "    + deliveries[\"Datetime\"].dt.minute * 60\n",
    "    + deliveries[\"Datetime\"].dt.second\n",
    ")\n",
    "\n",
    "# Calculate 2.5th and 97.5th percentiles for each platform\n",
    "percentiles = (\n",
    "    deliveries\n",
    "    .groupby(\"Platform\")[\"TimeOfDaySeconds\"]\n",
    "    .quantile([0.025, 0.975])\n",
    "    .unstack()\n",
    ")\n",
    "\n",
    "# Rename the columns for clarity purposes\n",
    "percentiles.columns = [\"2.5th_percentile\", \"97.5th_percentile\"]\n",
    "\n",
    "# Convert seconds back to HH:MM:SS\n",
    "percentiles[\"2.5th_percentile\"] = pd.to_datetime(percentiles[\"2.5th_percentile\"], unit='s').dt.strftime('%H:%M:%S')\n",
    "percentiles[\"97.5th_percentile\"] = pd.to_datetime(percentiles[\"97.5th_percentile\"], unit='s').dt.strftime('%H:%M:%S')\n",
    "\n",
    "print(percentiles)"
   ]
  },
  {
   "cell_type": "markdown",
   "id": "817c7c58-1817-49f4-9c1a-2c53ffa56b8c",
   "metadata": {},
   "source": [
    "_Image: Percentiles.png_\n",
    "\n",
    "**Figure 7: Delivery Time Percentiles by Platform**\n",
    "\n",
    "SEO: This table displays the 2.5th and 97.5th percentiles of delivery times for each platform, expressed in HH:MM:SS."
   ]
  },
  {
   "cell_type": "markdown",
   "id": "af11b9eb-9552-411e-99df-f836c2343feb",
   "metadata": {},
   "source": [
    "### 4. Conclusion\n",
    "\n",
    "In this project, I sought to uncover patterns in the delivery times of the e-commerce platforms I use most, with the goal of identifying time windows where I can safely leave home with minimal risk of missing a package. To do so, I collected raw data from my email platform, transformed it into a structured format, and validated the data.\n",
    "\n",
    "The analysis, supported by a grouped bar chart, histograms, and percentile calculations, revealed some notable differences between the platforms. The weekday analysis indicated that the most significant divergence occurs on weekends. MercadoLivre shows a marked decrease in deliveries on both Saturday and Sunday compared to weekdays, whereas Shopee continues to receive a considerable number of deliveries on Saturdays but none on Sundays.\n",
    "\n",
    "By calculating the 2.5th and 97.5th percentiles of the delivery times, I determined that approximately 95% of deliveries occur within these intervals:\n",
    "- **MercadoLivre:** from **10:26** to **19:56**.\n",
    "- **Shopee:** from **08:12** to **17:59**.\n",
    "\n",
    "While Shopee's delivery window is quite broad and begins early, making it harder to pinpoint a consistently safe period for outings, MercadoLivre's deliveries tend to start later in the day. This means that by planning outings before 10:30 AM, I can greatly reduce the chance of missing a MercadoLivre delivery.\n",
    "\n",
    "Overall, this project has been an excellent opportunity to apply various data science concepts in a real-world context, demonstrating how data analysis can transform everyday decision-making into a more informed and efficient process."
   ]
  }
 ],
 "metadata": {
  "kernelspec": {
   "display_name": "Python [conda env:base] *",
   "language": "python",
   "name": "conda-base-py"
  },
  "language_info": {
   "codemirror_mode": {
    "name": "ipython",
    "version": 3
   },
   "file_extension": ".py",
   "mimetype": "text/x-python",
   "name": "python",
   "nbconvert_exporter": "python",
   "pygments_lexer": "ipython3",
   "version": "3.12.7"
  }
 },
 "nbformat": 4,
 "nbformat_minor": 5
}
